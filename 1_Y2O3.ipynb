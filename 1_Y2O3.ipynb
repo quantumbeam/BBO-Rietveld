{
 "cells": [
  {
   "cell_type": "markdown",
   "metadata": {},
   "source": [
    "# BBO-Rietveld Y2O3\n",
    "\n",
    "In this notebook, you can see how to automate Rietveld refinement with black-box optimization.  \n",
    "Run the following cells to run the optimization.\n",
    "\n",
    "## Documentations\n",
    "- [JupyterLab](https://jupyterlab.readthedocs.io/en/stable/)\n",
    "- [GSASIIscriptable: Scripting Interface](https://gsas-ii.readthedocs.io/en/latest/GSASIIscriptable.html)\n",
    "- [Optuna](https://optuna.readthedocs.io/en/stable/)\n"
   ]
  },
  {
   "cell_type": "code",
   "execution_count": null,
   "metadata": {},
   "outputs": [],
   "source": [
    "# import packages\n",
    "%matplotlib inline\n",
    "\n",
    "import os\n",
    "import sys\n",
    "from multiprocessing import Process, Queue\n",
    "import pandas as pd\n",
    "import optuna\n",
    "import matplotlib.pyplot as plt\n",
    "from matplotlib.gridspec import GridSpec\n",
    "from dataclasses import dataclass\n",
    "sys.path.append('/root/g2full/GSASII/')"
   ]
  },
  {
   "cell_type": "code",
   "execution_count": 3,
   "metadata": {},
   "outputs": [],
   "source": [
    "# Configurations\n",
    "RANDOM_SEED = 1024\n",
    "STUDY_NAME = 'Y2O3'\n",
    "DATA_DIR = 'data/' + STUDY_NAME\n",
    "# all output files include GSAS project file (*.gpx) will be saved in WORK_DIR\n",
    "WORK_DIR = 'work/' + STUDY_NAME"
   ]
  },
  {
   "cell_type": "code",
   "execution_count": 4,
   "metadata": {},
   "outputs": [],
   "source": [
    "# make directories\n",
    "! rm -f $WORK_DIR/$STUDY_NAME*\n",
    "! mkdir -p $WORK_DIR"
   ]
  },
  {
   "cell_type": "code",
   "execution_count": 5,
   "metadata": {},
   "outputs": [],
   "source": [
    "@dataclass\n",
    "class ProjectConfig:\n",
    "    work_dir: str\n",
    "    random_seed: int\n",
    "    data_dir: str\n",
    "    cif_file: str\n",
    "    csv_file: str\n",
    "    prm_file: str"
   ]
  },
  {
   "cell_type": "code",
   "execution_count": 6,
   "metadata": {},
   "outputs": [],
   "source": [
    "class Project:\n",
    "    def __init__(self, config: ProjectConfig, trial_number: int):\n",
    "        import GSASIIscriptable as G2sc\n",
    "        self.gpx = G2sc.G2Project(newgpx=os.path.join(\n",
    "            config.work_dir, f'project_seed{config.random_seed}_trial_{trial_number}.gpx'))\n",
    "\n",
    "        self.hist1 = self.gpx.add_powder_histogram(\n",
    "            os.path.join(config.data_dir, config.csv_file), os.path.join(config.data_dir, config.prm_file))\n",
    "        \n",
    "        self.phase0 = self.gpx.add_phase(os.path.join(config.data_dir, config.cif_file),\n",
    "                                         phasename=config.cif_file.split(\".cif\")[0],\n",
    "                                         histograms=[self.hist1])\n",
    "        \n",
    "        self.hist1.data['Instrument Parameters'][0]['I(L2)/I(L1)'] = [0.5, 0.5, 0]\n",
    "\n",
    "        # Set to use iso\n",
    "        for val in self.phase0.data['Atoms']:\n",
    "            val[9] = 'I'\n",
    "\n",
    "    def refine_and_calc_Rwp(self, param_dict):\n",
    "        self.gpx.do_refinements([param_dict])\n",
    "        for hist in self.gpx.histograms():\n",
    "            _, Rwp = hist.name, hist.get_wR()\n",
    "        return Rwp"
   ]
  },
  {
   "cell_type": "code",
   "execution_count": 7,
   "metadata": {},
   "outputs": [],
   "source": [
    "# Example usage:\n",
    "config = ProjectConfig(\n",
    "    work_dir=WORK_DIR,\n",
    "    random_seed=RANDOM_SEED,\n",
    "    data_dir=DATA_DIR,\n",
    "    cif_file='Y2O3.cif',\n",
    "    csv_file='Y2O3.csv',\n",
    "    prm_file='INST_XRY.PRM'\n",
    ")"
   ]
  },
  {
   "cell_type": "markdown",
   "metadata": {},
   "source": [
    "In the objective function, first, configurations for the following parameters are sampled.\n",
    "Then, the crystal structure is refined by GSAS-II.\n",
    "Finally, the calculated Rwp is returned.\n",
    "\n",
    "| Parameter                                 | Parameter type   | Search space                                                                                                      |\n",
    "|-------------------------------------------|------------------|-------------------------------------------------------------------------------------------------------------------|\n",
    "| initial 2theta bound refinement           | categorical      | {True, False}                                                                                                      |\n",
    "| initial 2theta lower bound (deg.)         | real             | [15, 130]                                                                                                          |\n",
    "| initial 2theta upper bound (deg.)         | real/conditional | [l + 20, 150] (l is the initial 2theta lower bound)                                                                |\n",
    "| background function                       | categorical      | {Chebyshev, cosine, Q^2 power series, Q^-2 power series, linear interpolate, inverse interpolate, log interpolate} |\n",
    "| degree of background function             | initegral        | [1, 15]                                                                                                            |\n",
    "| instrument zero position refinement       | categorical      | {True, False}                                                                                                      |\n",
    "| sample shift X refinement                 | categorical      | {True, False}                                                                                                      |\n",
    "| sample shift Y refinement                 | categorical      | {True, False}                                                                                                      |\n",
    "| scale factor refinement                   | categorical      | {True, False}                                                                                                      |\n",
    "| peak shape refinement (Gaussian: U, V, W) | categorical      | {True, False}                                                                                                      |\n",
    "| peak shape refinement (Lorentzian: X, Y)  | categorical      | {True, False}                                                                                                      |\n",
    "| peak shape refinement (SH/L)              | categorical      | {True, False}                                                                                                      |"
   ]
  },
  {
   "cell_type": "code",
   "execution_count": 9,
   "metadata": {},
   "outputs": [],
   "source": [
    "def objective(trial, config):\n",
    "    \"\"\"\n",
    "    objective function for Optuna.\n",
    "    \n",
    "    You can apply black-box optimization for other data analysis \n",
    "    by modifying this function for that task.\n",
    "    \n",
    "    Parameters\n",
    "    ----------\n",
    "    trial : optuna.trial object\n",
    "\n",
    "    Returns\n",
    "    -------\n",
    "    Rwp : float\n",
    "    \n",
    "    \"\"\"\n",
    "    \n",
    "    ### define search space ###\n",
    "    # Limits (acute angle)\n",
    "    limits_lb = trial.suggest_float('Limits lower bound', 15, 130)\n",
    "    limits_ub = trial.suggest_float('Limits upper bound', limits_lb + 20, 150)\n",
    "    limits_refine = trial.suggest_categorical('limits refine', [True, False])\n",
    "    refdict0 = {'set': {'Limits': [limits_lb, limits_ub]}, 'refine': limits_refine}\n",
    "\n",
    "    # Background\n",
    "    background_type = trial.suggest_categorical(\n",
    "        'Background type', ['chebyschev',\n",
    "                            'cosine',\n",
    "                            'Q^2 power series',\n",
    "                            'Q^-2 power series',\n",
    "                            'lin interpolate',\n",
    "                            'inv interpolate',\n",
    "                            'log interpolate'])\n",
    "    no_coeffs = trial.suggest_int('Number of coefficients', 1, 15)  # [1, 15]\n",
    "    background_refine = trial.suggest_categorical('Background refine', [True, False])\n",
    "    refdict0bg_h = {\n",
    "        'set': {\n",
    "            'Background': {\n",
    "                'type': background_type,\n",
    "                'no. coeffs': no_coeffs,\n",
    "                'refine': background_refine\n",
    "            }\n",
    "        }\n",
    "    }\n",
    "\n",
    "    # Instrument parameters\n",
    "    instrument_parameters1_refine = []\n",
    "    for p in ['Zero']:\n",
    "        if trial.suggest_categorical('Instrument_parameters refine %s' % (p), [True, False]):\n",
    "            instrument_parameters1_refine.append(p)\n",
    "    refdict1_h = {'set': {'Cell': True, 'Instrument Parameters': instrument_parameters1_refine}}\n",
    "\n",
    "    sample_parameters1_refine =[]\n",
    "    for p in ['DisplaceX', 'DisplaceY', 'Scale']:\n",
    "        if trial.suggest_categorical('Sample_parameters refine %s' % (p), [True, False]):\n",
    "            sample_parameters1_refine.append(p)\n",
    "    refdict1_h2 = {\"set\": {'Sample Parameters':sample_parameters1_refine }}\n",
    "\n",
    "    instrument_parameters2_refine = []\n",
    "    for p in ['U', 'V', 'W', 'X', 'Y', 'SH/L']:\n",
    "        if trial.suggest_categorical('Peakshape_parameters refine %s' % (p), [True, False]):\n",
    "            instrument_parameters2_refine.append(p)\n",
    "    refdict2_h = {'set': {'Instrument Parameters': instrument_parameters2_refine}}\n",
    "\n",
    "    refdict3_h = {'set': {'Atoms': {'all': 'XU'}}}\n",
    "\n",
    "    # Limits (wide angle)\n",
    "    refdict_fin_h = {'set': {'Limits': [15, 150]}, 'refine': True}\n",
    "\n",
    "    # Evaluate\n",
    "    refine_params_list = [refdict0,\n",
    "                          refdict0bg_h,\n",
    "                          refdict1_h,\n",
    "                          refdict1_h2,\n",
    "                          refdict2_h,\n",
    "                          refdict3_h,\n",
    "                          refdict_fin_h]\n",
    "    \n",
    "    def evaluate(config, trial_number, refine_params_list):\n",
    "        ERROR_PENALTY = 1e9      \n",
    "        try:\n",
    "            print(config)\n",
    "            print(trial_number)\n",
    "            print(refine_params_list)\n",
    "            # todo: ここを実装（trial_number）を渡す\n",
    "            project = Project(config, trial_number)\n",
    "            for params in refine_params_list:\n",
    "                Rwp = project.refine_and_calc_Rwp(params)                    \n",
    "            # validate Uiso >= 0\n",
    "            phase_Y2O3 = project.gpx.phases()[0]\n",
    "            u_iso_list = [atom.uiso for atom in phase_Y2O3.atoms()]\n",
    "            if min(u_iso_list) < 0:\n",
    "                # Uiso < 0\n",
    "                Rwp = ERROR_PENALTY\n",
    "            return Rwp\n",
    "            \n",
    "        except Exception as e:\n",
    "            # Refinement failed\n",
    "            print(e, file=sys.stderr)\n",
    "            return ERROR_PENALTY\n",
    "            \n",
    "    Rwp = evaluate(config, trial.number, refine_params_list)\n",
    "    \n",
    "    return Rwp"
   ]
  },
  {
   "cell_type": "code",
   "execution_count": 11,
   "metadata": {},
   "outputs": [
    {
     "name": "stderr",
     "output_type": "stream",
     "text": [
      "[I 2024-04-03 12:39:27,443] Using an existing study with name 'Y2O3_seed1024' instead of creating a new one.\n"
     ]
    }
   ],
   "source": [
    "# Create Optuna study\n",
    "\n",
    "study = optuna.create_study(study_name=STUDY_NAME + '_seed%s' % (RANDOM_SEED),\n",
    "                            storage=f\"sqlite:///{config.work_dir}/history_sqlite.db\", \n",
    "                            load_if_exists=True,\n",
    "                            sampler=optuna.samplers.TPESampler(n_startup_trials=20, seed=RANDOM_SEED))"
   ]
  },
  {
   "cell_type": "markdown",
   "metadata": {},
   "source": [
    "Run 200 refinements to find the best configuration. It may take abount an hour to complete."
   ]
  },
  {
   "cell_type": "code",
   "execution_count": null,
   "metadata": {
    "scrolled": true
   },
   "outputs": [],
   "source": [
    "# Optimize\n",
    "study.optimize(func=lambda trial: objective(trial, config), n_trials=100)"
   ]
  },
  {
   "cell_type": "code",
   "execution_count": null,
   "metadata": {},
   "outputs": [],
   "source": [
    "# Results\n",
    "df = study.trials_dataframe()\n",
    "df.columns = [''.join(col).replace('params', '').strip() for col in df.columns.values]\n",
    "df.rename(columns={'value':'Rwp', 'number':'trial'}, inplace=True)\n",
    "df.sort_values('Rwp')"
   ]
  },
  {
   "cell_type": "code",
   "execution_count": 30,
   "metadata": {},
   "outputs": [
    {
     "data": {
      "text/plain": [
       "{'Limits lower bound': 91.81741956486644,\n",
       " 'Limits upper bound': 124.16688310979242,\n",
       " 'limits refine': False,\n",
       " 'Background type': 'log interpolate',\n",
       " 'Number of coefficients': 14,\n",
       " 'Background refine': True,\n",
       " 'Instrument_parameters refine Zero': True,\n",
       " 'Sample_parameters refine DisplaceX': True,\n",
       " 'Sample_parameters refine DisplaceY': True,\n",
       " 'Sample_parameters refine Scale': False,\n",
       " 'Peakshape_parameters refine U': False,\n",
       " 'Peakshape_parameters refine V': False,\n",
       " 'Peakshape_parameters refine W': True,\n",
       " 'Peakshape_parameters refine X': True,\n",
       " 'Peakshape_parameters refine Y': True,\n",
       " 'Peakshape_parameters refine SH/L': False}"
      ]
     },
     "execution_count": 30,
     "metadata": {},
     "output_type": "execute_result"
    }
   ],
   "source": [
    "# Best configuration\n",
    "study.best_params"
   ]
  },
  {
   "cell_type": "code",
   "execution_count": 31,
   "metadata": {},
   "outputs": [
    {
     "data": {
      "text/plain": [
       "7.946615605079828"
      ]
     },
     "execution_count": 31,
     "metadata": {},
     "output_type": "execute_result"
    }
   ],
   "source": [
    "# Best Rwp\n",
    "study.best_value"
   ]
  },
  {
   "cell_type": "code",
   "execution_count": 32,
   "metadata": {},
   "outputs": [
    {
     "data": {
      "image/png": "[encoded data removed]",
      "text/plain": [
       "<Figure size 640x480 with 1 Axes>"
      ]
     },
     "metadata": {},
     "output_type": "display_data"
    }
   ],
   "source": [
    "# Rwp plot\n",
    "def rwp_plot():\n",
    "    minvalues = [df.iloc[0]['Rwp']]\n",
    "    for i in range(1, df.shape[0]):\n",
    "        minvalues.append(min(minvalues[-1], df.iloc[i]['Rwp']))\n",
    "    minvalues = pd.DataFrame(minvalues)\n",
    "    \n",
    "    minvalues.plot(legend=None)\n",
    "    plt.ylim([6, 16])\n",
    "    plt.grid(color='#cccccc')\n",
    "    plt.ylabel('$R_{wp}$')\n",
    "    plt.xlabel('Number of trials')\n",
    "    plt.show()\n",
    "    \n",
    "rwp_plot()"
   ]
  },
  {
   "cell_type": "code",
   "execution_count": 37,
   "metadata": {},
   "outputs": [
    {
     "data": {
      "image/png": "[encoded data removed]",
      "text/plain": [
       "<Figure size 640x480 with 2 Axes>"
      ]
     },
     "metadata": {},
     "output_type": "display_data"
    }
   ],
   "source": [
    "# Rietveld plot\n",
    "def rietveld_plot():\n",
    "    import GSASIIscriptable as G2sc\n",
    "\n",
    "    gpx = G2sc.G2Project(\n",
    "        f'{WORK_DIR}/project_seed{RANDOM_SEED}_trial_{study.best_trial.number}.gpx')\n",
    "\n",
    "    hist1 = gpx.histograms()[0]\n",
    "    phase0 = gpx.phases()[0]\n",
    "\n",
    "    hist = hist1\n",
    "    i = 5\n",
    "    two_theta = hist.getdata(\"X\")[::i]\n",
    "    Yobs = hist.getdata(\"Yobs\")[::i]\n",
    "    Ycalc = hist.getdata(\"Ycalc\")[::i]\n",
    "    bg = hist.getdata(\"Background\")[::i]\n",
    "    residual = hist.getdata(\"Residual\")[::i]\n",
    "\n",
    "    fig = plt.figure()\n",
    "    gs = GridSpec(5, 1, figure=fig)\n",
    "    ax1 = fig.add_subplot(gs[:4, :])\n",
    "    ax2 = fig.add_subplot(gs[4, :])\n",
    "    fig.subplots_adjust(hspace=0)\n",
    "    ax1.grid(color='#cccccc')\n",
    "\n",
    "    ax1.scatter(two_theta, Yobs, marker='P', lw=0.0001, c='Black', label='XRD (Obs)')\n",
    "    ax1.plot(two_theta, Ycalc, label='XRD (Calc)')\n",
    "    ax1.plot(two_theta, bg, color='red', label='Background (Calc)')\n",
    "    ax1.set_ylabel('Intensity')\n",
    "    ax1.legend()\n",
    "    ax2.plot(two_theta, residual, color='blue')\n",
    "    plt.setp(ax1.get_xticklabels(), visible=False);\n",
    "    ax2.set_ylim(-6600, 6600)\n",
    "    plt.xlabel(r'$2\\theta$ (deg.)')\n",
    "    ax2.set_ylabel('Residual')\n",
    "    ax1.set_xlim(15, 150)\n",
    "    ax2.set_xlim(15, 150)\n",
    "    plt.show()\n",
    "    \n",
    "rietveld_plot()"
   ]
  },
  {
   "cell_type": "code",
   "execution_count": null,
   "metadata": {},
   "outputs": [],
   "source": []
  }
 ],
 "metadata": {
  "kernelspec": {
   "display_name": "Python 3 (ipykernel)",
   "language": "python",
   "name": "python3"
  },
  "language_info": {
   "codemirror_mode": {
    "name": "ipython",
    "version": 3
   },
   "file_extension": ".py",
   "mimetype": "text/x-python",
   "name": "python",
   "nbconvert_exporter": "python",
   "pygments_lexer": "ipython3",
   "version": "3.10.14"
  }
 },
 "nbformat": 4,
 "nbformat_minor": 4
}
